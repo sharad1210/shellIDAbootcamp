{
 "cells": [
  {
   "cell_type": "code",
   "execution_count": 5,
   "id": "2daeae74",
   "metadata": {},
   "outputs": [
    {
     "name": "stdout",
     "output_type": "stream",
     "text": [
      "Enter first number3\n",
      "Enter second number6\n",
      "The addition of 3 and 6 is:  9\n"
     ]
    }
   ],
   "source": [
    "#string formatting\n",
    "a = int(input(\"Enter first number\"))\n",
    "b = int(input(\"Enter second number\"))\n",
    "\n",
    "#addnum = a+b\n",
    "print (f\"The addition of {a} and {b} is: \", a+b)\n"
   ]
  },
  {
   "cell_type": "code",
   "execution_count": 6,
   "id": "dde01ac2",
   "metadata": {},
   "outputs": [
    {
     "name": "stdout",
     "output_type": "stream",
     "text": [
      "The difference of 3 and 6 is:  -3\n"
     ]
    }
   ],
   "source": [
    "print (f\"The difference of {a} and {b} is: \", a-b)"
   ]
  },
  {
   "cell_type": "code",
   "execution_count": 8,
   "id": "35f9548a",
   "metadata": {},
   "outputs": [
    {
     "name": "stdout",
     "output_type": "stream",
     "text": [
      "Enter the age: 16\n",
      "Not eligible to vote! \n",
      "Eligible to vote after 2 years\n"
     ]
    }
   ],
   "source": [
    "#if condition\n",
    "#min age for voting\n",
    "\n",
    "age = int(input(\"Enter the age: \"))\n",
    "\n",
    "if age>=18:\n",
    "    print(\"Eligible to vote\")\n",
    "else:\n",
    "    print(\"Not eligible to vote! \")\n",
    "    print(f\"Eligible to vote after {18-age} years\")"
   ]
  },
  {
   "cell_type": "code",
   "execution_count": 9,
   "id": "032fae08",
   "metadata": {},
   "outputs": [
    {
     "name": "stdout",
     "output_type": "stream",
     "text": [
      "C:/programfiles/backup/newfolder/abcd/xyz\n"
     ]
    }
   ],
   "source": [
    "#raw string\n",
    "print(\"C:/programfiles/backup/newfolder/abcd/xyz\")"
   ]
  },
  {
   "cell_type": "code",
   "execution_count": 10,
   "id": "d4cc918d",
   "metadata": {},
   "outputs": [
    {
     "ename": "SyntaxError",
     "evalue": "(unicode error) 'unicodeescape' codec can't decode bytes in position 2-3: truncated \\UXXXXXXXX escape (1158696946.py, line 1)",
     "output_type": "error",
     "traceback": [
      "\u001b[0;36m  Cell \u001b[0;32mIn[10], line 1\u001b[0;36m\u001b[0m\n\u001b[0;31m    print(\"C:\\Users\\Annika.Chandra\\OneDrive - Shell\\Desktop\\Shell bootcamp\\Customer.xlsx\")\u001b[0m\n\u001b[0m                                                                                         ^\u001b[0m\n\u001b[0;31mSyntaxError\u001b[0m\u001b[0;31m:\u001b[0m (unicode error) 'unicodeescape' codec can't decode bytes in position 2-3: truncated \\UXXXXXXXX escape\n"
     ]
    }
   ],
   "source": [
    "print(\"C:\\Users\\Annika.Chandra\\OneDrive - Shell\\Desktop\\Shell bootcamp\\Customer.xlsx\")\n",
    "#\\n \\t \\b \\a \\e they are keyboard tabs"
   ]
  },
  {
   "cell_type": "code",
   "execution_count": 11,
   "id": "70865e94",
   "metadata": {},
   "outputs": [
    {
     "name": "stdout",
     "output_type": "stream",
     "text": [
      "C:\\Users\\Annika.Chandra\\OneDrive - Shell\\Desktop\\Shell bootcamp\\Customer.xlsx\n"
     ]
    }
   ],
   "source": [
    "#printing the string as it is\n",
    "\n",
    "print(r\"C:\\Users\\Annika.Chandra\\OneDrive - Shell\\Desktop\\Shell bootcamp\\Customer.xlsx\")"
   ]
  },
  {
   "cell_type": "code",
   "execution_count": 12,
   "id": "fea11499",
   "metadata": {},
   "outputs": [
    {
     "data": {
      "text/plain": [
       "set()"
      ]
     },
     "execution_count": 12,
     "metadata": {},
     "output_type": "execute_result"
    }
   ],
   "source": [
    "#sequeneces / data structures in Python\n",
    "#sets\n",
    "\n",
    "s1 = set() #empty set\n",
    "s1\n"
   ]
  },
  {
   "cell_type": "code",
   "execution_count": 20,
   "id": "212207e1",
   "metadata": {},
   "outputs": [
    {
     "data": {
      "text/plain": [
       "{23, 54, 65, 77, 87}"
      ]
     },
     "execution_count": 20,
     "metadata": {},
     "output_type": "execute_result"
    }
   ],
   "source": [
    "s = {23,54,65,23,87,54,77}\n",
    "s "
   ]
  },
  {
   "cell_type": "code",
   "execution_count": 16,
   "id": "c81d82ab",
   "metadata": {},
   "outputs": [
    {
     "ename": "TypeError",
     "evalue": "'set' object is not subscriptable",
     "output_type": "error",
     "traceback": [
      "\u001b[0;31m---------------------------------------------------------------------------\u001b[0m",
      "\u001b[0;31mTypeError\u001b[0m                                 Traceback (most recent call last)",
      "Cell \u001b[0;32mIn[16], line 1\u001b[0m\n\u001b[0;32m----> 1\u001b[0m s[\u001b[38;5;241m4\u001b[39m]\n",
      "\u001b[0;31mTypeError\u001b[0m: 'set' object is not subscriptable"
     ]
    }
   ],
   "source": [
    "s[4]"
   ]
  },
  {
   "cell_type": "code",
   "execution_count": 21,
   "id": "ed7cd5ed",
   "metadata": {},
   "outputs": [
    {
     "data": {
      "text/plain": [
       "{15, 23, 54, 65, 77, 87}"
      ]
     },
     "execution_count": 21,
     "metadata": {},
     "output_type": "execute_result"
    }
   ],
   "source": [
    "s.add(15)\n",
    "s #only possible to print directly in jupyter notebook"
   ]
  },
  {
   "cell_type": "code",
   "execution_count": 22,
   "id": "f8c1257a",
   "metadata": {},
   "outputs": [
    {
     "name": "stdout",
     "output_type": "stream",
     "text": [
      "{65, 54, 23, 87, 77, 15}\n"
     ]
    }
   ],
   "source": [
    "print(s) #everywhere we need to write print statement"
   ]
  },
  {
   "cell_type": "code",
   "execution_count": 25,
   "id": "2e745e0e",
   "metadata": {},
   "outputs": [
    {
     "data": {
      "text/plain": [
       "{15, 54, 65, 77, 87}"
      ]
     },
     "execution_count": 25,
     "metadata": {},
     "output_type": "execute_result"
    }
   ],
   "source": [
    "s.discard(23)\n",
    "s"
   ]
  },
  {
   "cell_type": "code",
   "execution_count": 26,
   "id": "2b3947b6",
   "metadata": {},
   "outputs": [
    {
     "data": {
      "text/plain": [
       "{15, 65, 77, 87}"
      ]
     },
     "execution_count": 26,
     "metadata": {},
     "output_type": "execute_result"
    }
   ],
   "source": [
    "s.remove(54)\n",
    "s"
   ]
  },
  {
   "cell_type": "code",
   "execution_count": 27,
   "id": "e89cb8f0",
   "metadata": {},
   "outputs": [
    {
     "data": {
      "text/plain": [
       "{15, 77, 87}"
      ]
     },
     "execution_count": 27,
     "metadata": {},
     "output_type": "execute_result"
    }
   ],
   "source": [
    "s.pop() #pop only deletes the first element\n",
    "s"
   ]
  },
  {
   "cell_type": "code",
   "execution_count": 28,
   "id": "ec5c12b3",
   "metadata": {},
   "outputs": [
    {
     "data": {
      "text/plain": [
       "{5, 10, 15, 32, 33, 77, 87}"
      ]
     },
     "execution_count": 28,
     "metadata": {},
     "output_type": "execute_result"
    }
   ],
   "source": [
    "s1 = {32,5,33,10}\n",
    "\n",
    "s | s1 #union"
   ]
  },
  {
   "cell_type": "code",
   "execution_count": 29,
   "id": "0f2423cc",
   "metadata": {},
   "outputs": [
    {
     "data": {
      "text/plain": [
       "set()"
      ]
     },
     "execution_count": 29,
     "metadata": {},
     "output_type": "execute_result"
    }
   ],
   "source": [
    "s & s1 #intersection"
   ]
  },
  {
   "cell_type": "code",
   "execution_count": 30,
   "id": "343e8cf5",
   "metadata": {},
   "outputs": [
    {
     "data": {
      "text/plain": [
       "{15, 77, 87}"
      ]
     },
     "execution_count": 30,
     "metadata": {},
     "output_type": "execute_result"
    }
   ],
   "source": [
    "s - s1 #difference   s - (set1&set2)"
   ]
  },
  {
   "cell_type": "code",
   "execution_count": 31,
   "id": "eb337c57",
   "metadata": {},
   "outputs": [
    {
     "data": {
      "text/plain": [
       "{5, 10, 15, 32, 33, 77, 87}"
      ]
     },
     "execution_count": 31,
     "metadata": {},
     "output_type": "execute_result"
    }
   ],
   "source": [
    "s ^ s1 #symmetric difference (union of uncommon elements)"
   ]
  },
  {
   "cell_type": "code",
   "execution_count": 36,
   "id": "d785bb5d",
   "metadata": {},
   "outputs": [
    {
     "data": {
      "text/plain": [
       "dict"
      ]
     },
     "execution_count": 36,
     "metadata": {},
     "output_type": "execute_result"
    }
   ],
   "source": [
    "#dictionary\n",
    "\n",
    "d1 = {5: \"C\", 3:\"JAVA\" , 10:\"CPP\", 7:\"Python\", 9:\"Scala\"}\n",
    "type(d1)"
   ]
  },
  {
   "cell_type": "code",
   "execution_count": 37,
   "id": "bdc003c2",
   "metadata": {},
   "outputs": [
    {
     "data": {
      "text/plain": [
       "{5: 'C', 3: 'JAVA', 10: 'CPP', 7: 'Python', 9: 'Scala'}"
      ]
     },
     "execution_count": 37,
     "metadata": {},
     "output_type": "execute_result"
    }
   ],
   "source": [
    "d1\n"
   ]
  },
  {
   "cell_type": "code",
   "execution_count": 38,
   "id": "148f583b",
   "metadata": {},
   "outputs": [
    {
     "data": {
      "text/plain": [
       "'JAVA'"
      ]
     },
     "execution_count": 38,
     "metadata": {},
     "output_type": "execute_result"
    }
   ],
   "source": [
    "d1[3]"
   ]
  },
  {
   "cell_type": "code",
   "execution_count": 41,
   "id": "7119b462",
   "metadata": {},
   "outputs": [
    {
     "data": {
      "text/plain": [
       "'CPP'"
      ]
     },
     "execution_count": 41,
     "metadata": {},
     "output_type": "execute_result"
    }
   ],
   "source": [
    "d1[10]"
   ]
  },
  {
   "cell_type": "code",
   "execution_count": 42,
   "id": "9f3e9f07",
   "metadata": {},
   "outputs": [
    {
     "data": {
      "text/plain": [
       "{5: 'C', 3: 'JAVA', 10: 'CPP', 7: 'Python', 9: 'Scala', 1: 'Javacript'}"
      ]
     },
     "execution_count": 42,
     "metadata": {},
     "output_type": "execute_result"
    }
   ],
   "source": [
    "d1[1] = \"Javacript\"\n",
    "d1"
   ]
  },
  {
   "cell_type": "code",
   "execution_count": 43,
   "id": "e328e378",
   "metadata": {},
   "outputs": [
    {
     "data": {
      "text/plain": [
       "'Python'"
      ]
     },
     "execution_count": 43,
     "metadata": {},
     "output_type": "execute_result"
    }
   ],
   "source": [
    "d1.get(7)"
   ]
  },
  {
   "cell_type": "code",
   "execution_count": 45,
   "id": "37271681",
   "metadata": {},
   "outputs": [
    {
     "data": {
      "text/plain": [
       "'key not found'"
      ]
     },
     "execution_count": 45,
     "metadata": {},
     "output_type": "execute_result"
    }
   ],
   "source": [
    "d1.get(6,\"key not found\") #get() is better than using [] while accessing any element"
   ]
  },
  {
   "cell_type": "code",
   "execution_count": 49,
   "id": "d0df8961",
   "metadata": {},
   "outputs": [],
   "source": [
    "del d1[7]"
   ]
  },
  {
   "cell_type": "code",
   "execution_count": 50,
   "id": "5ffc19a0",
   "metadata": {},
   "outputs": [
    {
     "data": {
      "text/plain": [
       "{5: 'C', 3: 'JAVA', 9: 'Scala', 1: 'Javacript'}"
      ]
     },
     "execution_count": 50,
     "metadata": {},
     "output_type": "execute_result"
    }
   ],
   "source": [
    "d1"
   ]
  },
  {
   "cell_type": "code",
   "execution_count": 51,
   "id": "fa20c381",
   "metadata": {},
   "outputs": [
    {
     "data": {
      "text/plain": [
       "{1: '30 participants',\n",
       " 2: '44 participants',\n",
       " 3: '25 participants',\n",
       " 4: '28 participants',\n",
       " 5: '17 participants'}"
      ]
     },
     "execution_count": 51,
     "metadata": {},
     "output_type": "execute_result"
    }
   ],
   "source": [
    "ida = {1:\"30 participants\", 2:\"44 participants\",3:\"25 participants\",4:\"28 participants\",5:\"17 participants\"}\n",
    "ida"
   ]
  },
  {
   "cell_type": "code",
   "execution_count": 56,
   "id": "29291a3c",
   "metadata": {},
   "outputs": [
    {
     "data": {
      "text/plain": [
       "{'localhost': 'Jupyter Notebook',\n",
       " 'offline': ['Notepad++', 'Pycharm', 'VSCode', 'Spyder', 'Atom'],\n",
       " 'online': {'google': 'colaboratory',\n",
       "  'aws': 'Sagemaker',\n",
       "  'azure': 'azure ml studio'}}"
      ]
     },
     "execution_count": 56,
     "metadata": {},
     "output_type": "execute_result"
    }
   ],
   "source": [
    "editors={'localhost': 'Jupyter Notebook', \n",
    "         'offline' : ['Notepad++', 'Pycharm', 'VSCode' , 'Spyder' , 'Atom'],\n",
    "          'online' : {'google' : 'colaboratory', 'aws':'Sagemaker', 'azure':'azure ml studio'}}\n",
    "editors"
   ]
  },
  {
   "cell_type": "code",
   "execution_count": 57,
   "id": "06b636a0",
   "metadata": {},
   "outputs": [
    {
     "data": {
      "text/plain": [
       "{'google': 'colaboratory', 'aws': 'Sagemaker', 'azure': 'azure ml studio'}"
      ]
     },
     "execution_count": 57,
     "metadata": {},
     "output_type": "execute_result"
    }
   ],
   "source": [
    "editors['online']"
   ]
  },
  {
   "cell_type": "code",
   "execution_count": 58,
   "id": "b61ab674",
   "metadata": {},
   "outputs": [
    {
     "data": {
      "text/plain": [
       "'Sagemaker'"
      ]
     },
     "execution_count": 58,
     "metadata": {},
     "output_type": "execute_result"
    }
   ],
   "source": [
    "editors['online']['aws']"
   ]
  },
  {
   "cell_type": "code",
   "execution_count": 59,
   "id": "6da7256b",
   "metadata": {},
   "outputs": [
    {
     "data": {
      "text/plain": [
       "{'google': 'colaboratory', 'aws': 'Sagemaker', 'azure': 'azure ml studio'}"
      ]
     },
     "execution_count": 59,
     "metadata": {},
     "output_type": "execute_result"
    }
   ],
   "source": [
    "editors.get('online')"
   ]
  },
  {
   "cell_type": "code",
   "execution_count": 62,
   "id": "403579e7",
   "metadata": {},
   "outputs": [
    {
     "data": {
      "text/plain": [
       "{'p1': 'pizza', 'p2': 'burger', 'p3': 'pasta', 'p4': 'donut'}"
      ]
     },
     "execution_count": 62,
     "metadata": {},
     "output_type": "execute_result"
    }
   ],
   "source": [
    "list1 = ['p1','p2','p3','p4']\n",
    "list2 = ['pizza','burger','pasta','donut']\n",
    "\n",
    "#creating dictionary using zip() on lists , can also work with tuple\n",
    "d2 = dict(zip(list1,list2))\n",
    "d2"
   ]
  },
  {
   "cell_type": "code",
   "execution_count": null,
   "id": "47080ae0",
   "metadata": {},
   "outputs": [],
   "source": []
  }
 ],
 "metadata": {
  "kernelspec": {
   "display_name": "Python 3 (ipykernel)",
   "language": "python",
   "name": "python3"
  },
  "language_info": {
   "codemirror_mode": {
    "name": "ipython",
    "version": 3
   },
   "file_extension": ".py",
   "mimetype": "text/x-python",
   "name": "python",
   "nbconvert_exporter": "python",
   "pygments_lexer": "ipython3",
   "version": "3.11.4"
  }
 },
 "nbformat": 4,
 "nbformat_minor": 5
}
