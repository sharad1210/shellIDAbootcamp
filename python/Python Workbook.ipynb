{
 "cells": [
  {
   "cell_type": "code",
   "execution_count": 1,
   "id": "a693a89b",
   "metadata": {},
   "outputs": [],
   "source": [
    "#You are tasked with building a command-line logistics management system in Python. The program should allow users to:\n",
    "\n",
    "#Add a new product to the inventory.\n",
    "#List all products in the inventory.\n",
    "#Update the quantity of a product in the inventory.\n",
    "#Add a new shipment.\n",
    "#List all shipments.\n",
    "#Generate a report showing the current inventory status.\n",
    "#Quit the program."
   ]
  },
  {
   "cell_type": "code",
   "execution_count": 3,
   "id": "641157e0",
   "metadata": {},
   "outputs": [
    {
     "name": "stdout",
     "output_type": "stream",
     "text": [
      "The costly product in the collection is: Speaker\n"
     ]
    }
   ],
   "source": [
    "def my_function(*products):\n",
    "    print(\"The costly product in the collection is: \" + products[3])\n",
    "my_function(\"Mouse\",\"Keyboard\",\"Laptop\",\"Speaker\",\"Projector\")"
   ]
  },
  {
   "cell_type": "code",
   "execution_count": 7,
   "id": "297a6dd7",
   "metadata": {},
   "outputs": [
    {
     "name": "stdout",
     "output_type": "stream",
     "text": [
      "the hardware product name is:Logitech\n"
     ]
    }
   ],
   "source": [
    "def my_function(**product):\n",
    "    print(\"the hardware product name is:\" + product[\"brandname\"])\n",
    "  \n",
    "my_function(productname=  \"mouse\", brandname=\"Logitech\")          "
   ]
  },
  {
   "cell_type": "code",
   "execution_count": 8,
   "id": "2875e3d4",
   "metadata": {},
   "outputs": [
    {
     "name": "stdout",
     "output_type": "stream",
     "text": [
      "the hardware product name is:mouse\n"
     ]
    }
   ],
   "source": [
    "def my_function(**product):\n",
    "    print(\"the hardware product name is:\" + product[\"productname\"])\n",
    "  \n",
    "my_function(productname=  \"mouse\", brandname=\"Logitech\")          "
   ]
  },
  {
   "cell_type": "code",
   "execution_count": 10,
   "id": "a72cad35",
   "metadata": {},
   "outputs": [
    {
     "name": "stdout",
     "output_type": "stream",
     "text": [
      "Hi, I am: annika\n",
      "Hi, My age is: 22\n",
      "Hi, I am: annika\n",
      "Hi, My age is: 22\n"
     ]
    }
   ],
   "source": [
    "#keyword only arguments\n",
    "\n",
    "def nameAge(name,age):\n",
    "    print(\"Hi, I am:\" ,name)\n",
    "    print(\"Hi, My age is:\" ,age)\n",
    "    \n",
    "#following the order of arguments\n",
    "nameAge(name=\"annika\",age=22)\n",
    "\n",
    "#changing the order of arguments\n",
    "nameAge(age=22,name=\"annika\")\n"
   ]
  },
  {
   "cell_type": "code",
   "execution_count": 11,
   "id": "49a2fcc5",
   "metadata": {},
   "outputs": [
    {
     "name": "stdout",
     "output_type": "stream",
     "text": [
      "Case-1:\n",
      "Hi, I am: Remi\n",
      "Hi, My age is: 20\n",
      "Case-2:\n",
      "Hi, I am: 20\n",
      "Hi, My age is: Rem\n"
     ]
    }
   ],
   "source": [
    "#positional parameter demo\n",
    "\n",
    "def nameAge(name,age):\n",
    "    print(\"Hi, I am:\" ,name)\n",
    "    print(\"Hi, My age is:\" ,age)\n",
    "    \n",
    "print(\"Case-1:\")\n",
    "nameAge(\"Remi\",20)\n",
    "print(\"Case-2:\")\n",
    "nameAge(20,\"Rem\")"
   ]
  },
  {
   "cell_type": "code",
   "execution_count": 14,
   "id": "7572d760",
   "metadata": {},
   "outputs": [
    {
     "name": "stdout",
     "output_type": "stream",
     "text": [
      "Used positional args 10\n",
      "Used positional args -10\n"
     ]
    }
   ],
   "source": [
    "def minus(firstnum,secondnum):\n",
    "    return firstnum-secondnum\n",
    "\n",
    "firstnum,secondnum=20,10\n",
    "result1=minus(firstnum,secondnum)\n",
    "print(\"Used positional args\",result1)\n",
    "result2=minus(secondnum,firstnum)\n",
    "print(\"Used positional args\",result2)"
   ]
  },
  {
   "cell_type": "code",
   "execution_count": 15,
   "id": "84526c1c",
   "metadata": {},
   "outputs": [
    {
     "name": "stdout",
     "output_type": "stream",
     "text": [
      "Annika\n",
      "22\n"
     ]
    }
   ],
   "source": [
    "class Person:\n",
    "    def __init__(self,name,age):\n",
    "        self.name=name\n",
    "        self.age=age\n",
    "p1= Person(\"Annika\",22)\n",
    "\n",
    "print(p1.name)\n",
    "print(p1.age)"
   ]
  },
  {
   "cell_type": "code",
   "execution_count": 16,
   "id": "14bf12b5",
   "metadata": {},
   "outputs": [
    {
     "name": "stdout",
     "output_type": "stream",
     "text": [
      "<__main__.Person object at 0x7f70177f2790>\n"
     ]
    }
   ],
   "source": [
    "class Person:\n",
    "    def __init__(self,name,age):\n",
    "        self.name=name\n",
    "        self.age=age\n",
    "p1= Person(\"Annika\",22)\n",
    "\n",
    "print(p1)\n"
   ]
  },
  {
   "cell_type": "code",
   "execution_count": 18,
   "id": "14034e35",
   "metadata": {},
   "outputs": [
    {
     "name": "stdout",
     "output_type": "stream",
     "text": [
      "Annika(22)\n"
     ]
    }
   ],
   "source": [
    "class Person:\n",
    "    def __init__(self,name,age):\n",
    "        self.name=name\n",
    "        self.age=age\n",
    "        \n",
    "    def __str__(self):\n",
    "        return f\"{self.name}({self.age})\" #f= float\n",
    "    \n",
    "p1= Person(\"Annika\",22)\n",
    "\n",
    "print(p1)\n"
   ]
  },
  {
   "cell_type": "code",
   "execution_count": 23,
   "id": "740f379a",
   "metadata": {},
   "outputs": [
    {
     "name": "stdout",
     "output_type": "stream",
     "text": [
      "Hello my name is Annika and age is 22\n"
     ]
    }
   ],
   "source": [
    "class Person:\n",
    "    def __init__(self,name,age):\n",
    "        self.name=name\n",
    "        self.age=age\n",
    "        \n",
    "    def myfunc(self):\n",
    "        print(\"Hello my name is \" + self.name + \" and age is \"+ str(self.age))\n",
    "    \n",
    "p1= Person(\"Annika\",22)\n",
    "\n",
    "p1.myfunc()\n"
   ]
  },
  {
   "cell_type": "code",
   "execution_count": 24,
   "id": "c33fbdbb",
   "metadata": {},
   "outputs": [
    {
     "name": "stdout",
     "output_type": "stream",
     "text": [
      "Hello my name is Annika and age is 22\n"
     ]
    }
   ],
   "source": [
    "class Person:\n",
    "    def __init__(mysillyobject,name,age):\n",
    "        mysillyobject.name=name\n",
    "        mysillyobject.age=age\n",
    "        \n",
    "    def myfunc(abc):\n",
    "        print(\"Hello my name is \" + abc.name + \" and age is \"+ str(abc.age))\n",
    "    \n",
    "p1= Person(\"Annika\",22)\n",
    "\n",
    "p1.myfunc()\n"
   ]
  },
  {
   "cell_type": "code",
   "execution_count": 27,
   "id": "d2fa8434",
   "metadata": {},
   "outputs": [
    {
     "data": {
      "text/plain": [
       "(('John', 'Doe'),\n",
       " ('Oliver', 'Queen'),\n",
       " ('Malcolm', 'Merlin'),\n",
       " ('Berry', 'Remi'))"
      ]
     },
     "execution_count": 27,
     "metadata": {},
     "output_type": "execute_result"
    }
   ],
   "source": [
    "#using zip() function\n",
    "a= (\"John\",\"Oliver\",\"Malcolm\",\"Berry\")\n",
    "b=(\"Doe\",\"Queen\",\"Merlin\",\"Remi\")\n",
    "result = zip(a,b)\n",
    "tuple(result)"
   ]
  },
  {
   "cell_type": "code",
   "execution_count": 30,
   "id": "e30329d4",
   "metadata": {},
   "outputs": [
    {
     "name": "stdout",
     "output_type": "stream",
     "text": [
      "Return type: <class 'enumerate'>\n",
      "[(0, 'eat'), (1, 'sleep'), (2, 'repeat')]\n",
      "[(2, 'g'), (3, 'e'), (4, 'e'), (5, 'k')]\n"
     ]
    }
   ],
   "source": [
    "#enumerate\n",
    "l1 =[\"eat\",\"sleep\",\"repeat\"]\n",
    "s1= \"geek\"\n",
    "\n",
    "#creating enumerate objects\n",
    "obj1=enumerate(l1)\n",
    "obj2=enumerate(s1)\n",
    "\n",
    "print(\"Return type:\" , type(obj1))\n",
    "print(list(enumerate(l1)))\n",
    "\n",
    "#changing start index to 2 from 0\n",
    "print(list(enumerate(s1,2)))"
   ]
  },
  {
   "cell_type": "code",
   "execution_count": null,
   "id": "a70e231f",
   "metadata": {},
   "outputs": [],
   "source": []
  }
 ],
 "metadata": {
  "kernelspec": {
   "display_name": "Python 3 (ipykernel)",
   "language": "python",
   "name": "python3"
  },
  "language_info": {
   "codemirror_mode": {
    "name": "ipython",
    "version": 3
   },
   "file_extension": ".py",
   "mimetype": "text/x-python",
   "name": "python",
   "nbconvert_exporter": "python",
   "pygments_lexer": "ipython3",
   "version": "3.11.4"
  }
 },
 "nbformat": 4,
 "nbformat_minor": 5
}
